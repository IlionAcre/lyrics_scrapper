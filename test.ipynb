{
 "cells": [
  {
   "cell_type": "code",
   "execution_count": 22,
   "metadata": {},
   "outputs": [],
   "source": [
    "from sqlalchemy import create_engine\n",
    "import pandas as pd"
   ]
  },
  {
   "cell_type": "code",
   "execution_count": 33,
   "metadata": {},
   "outputs": [],
   "source": [
    "engine = create_engine(\"sqlite:///songs_data.db\")\n",
    "\n",
    "songs = pd.read_sql_query(\"SELECT * FROM songs\", engine)"
   ]
  },
  {
   "cell_type": "code",
   "execution_count": 35,
   "metadata": {},
   "outputs": [
    {
     "data": {
      "text/html": [
       "<div>\n",
       "<style scoped>\n",
       "    .dataframe tbody tr th:only-of-type {\n",
       "        vertical-align: middle;\n",
       "    }\n",
       "\n",
       "    .dataframe tbody tr th {\n",
       "        vertical-align: top;\n",
       "    }\n",
       "\n",
       "    .dataframe thead th {\n",
       "        text-align: right;\n",
       "    }\n",
       "</style>\n",
       "<table border=\"1\" class=\"dataframe\">\n",
       "  <thead>\n",
       "    <tr style=\"text-align: right;\">\n",
       "      <th></th>\n",
       "      <th>id</th>\n",
       "      <th>title</th>\n",
       "      <th>lyrics</th>\n",
       "    </tr>\n",
       "  </thead>\n",
       "  <tbody>\n",
       "    <tr>\n",
       "      <th>0</th>\n",
       "      <td>1</td>\n",
       "      <td>Last Night</td>\n",
       "      <td>[Intro]\\nLast night, we let the liquor talk\\nI...</td>\n",
       "    </tr>\n",
       "    <tr>\n",
       "      <th>1</th>\n",
       "      <td>2</td>\n",
       "      <td>Flowers</td>\n",
       "      <td>[Verse 1]\\nWe were good, we were gold\\nKinda d...</td>\n",
       "    </tr>\n",
       "    <tr>\n",
       "      <th>2</th>\n",
       "      <td>3</td>\n",
       "      <td>Kill Bill</td>\n",
       "      <td>[Verse 1]\\nI'm still a fan even though I was s...</td>\n",
       "    </tr>\n",
       "    <tr>\n",
       "      <th>3</th>\n",
       "      <td>4</td>\n",
       "      <td>Anti-Hero</td>\n",
       "      <td>[Verse 1]\\nI have this thing where I get older...</td>\n",
       "    </tr>\n",
       "    <tr>\n",
       "      <th>4</th>\n",
       "      <td>5</td>\n",
       "      <td>Creepin'</td>\n",
       "      <td>[Intro]\\n(Just can't believe this, man)\\n(Metr...</td>\n",
       "    </tr>\n",
       "  </tbody>\n",
       "</table>\n",
       "</div>"
      ],
      "text/plain": [
       "   id       title                                             lyrics\n",
       "0   1  Last Night  [Intro]\\nLast night, we let the liquor talk\\nI...\n",
       "1   2     Flowers  [Verse 1]\\nWe were good, we were gold\\nKinda d...\n",
       "2   3   Kill Bill  [Verse 1]\\nI'm still a fan even though I was s...\n",
       "3   4   Anti-Hero  [Verse 1]\\nI have this thing where I get older...\n",
       "4   5    Creepin'  [Intro]\\n(Just can't believe this, man)\\n(Metr..."
      ]
     },
     "execution_count": 35,
     "metadata": {},
     "output_type": "execute_result"
    }
   ],
   "source": [
    "songs.head()"
   ]
  },
  {
   "cell_type": "code",
   "execution_count": 41,
   "metadata": {},
   "outputs": [
    {
     "data": {
      "text/html": [
       "<div>\n",
       "<style scoped>\n",
       "    .dataframe tbody tr th:only-of-type {\n",
       "        vertical-align: middle;\n",
       "    }\n",
       "\n",
       "    .dataframe tbody tr th {\n",
       "        vertical-align: top;\n",
       "    }\n",
       "\n",
       "    .dataframe thead th {\n",
       "        text-align: right;\n",
       "    }\n",
       "</style>\n",
       "<table border=\"1\" class=\"dataframe\">\n",
       "  <thead>\n",
       "    <tr style=\"text-align: right;\">\n",
       "      <th></th>\n",
       "      <th>id</th>\n",
       "      <th>title</th>\n",
       "      <th>lyrics</th>\n",
       "    </tr>\n",
       "  </thead>\n",
       "  <tbody>\n",
       "    <tr>\n",
       "      <th>0</th>\n",
       "      <td>1</td>\n",
       "      <td>Last Night</td>\n",
       "      <td>ASDASD[Intro]\\nLast night, we let the liquor t...</td>\n",
       "    </tr>\n",
       "    <tr>\n",
       "      <th>1</th>\n",
       "      <td>2</td>\n",
       "      <td>Flowers</td>\n",
       "      <td>ASDASD[Verse 1]\\nWe were good, we were gold\\nK...</td>\n",
       "    </tr>\n",
       "    <tr>\n",
       "      <th>2</th>\n",
       "      <td>3</td>\n",
       "      <td>Kill Bill</td>\n",
       "      <td>ASDASD[Verse 1]\\nI'm still a fan even though I...</td>\n",
       "    </tr>\n",
       "    <tr>\n",
       "      <th>3</th>\n",
       "      <td>4</td>\n",
       "      <td>Anti-Hero</td>\n",
       "      <td>ASDASD[Verse 1]\\nI have this thing where I get...</td>\n",
       "    </tr>\n",
       "    <tr>\n",
       "      <th>4</th>\n",
       "      <td>5</td>\n",
       "      <td>Creepin'</td>\n",
       "      <td>ASDASD[Intro]\\n(Just can't believe this, man)\\...</td>\n",
       "    </tr>\n",
       "  </tbody>\n",
       "</table>\n",
       "</div>"
      ],
      "text/plain": [
       "   id       title                                             lyrics\n",
       "0   1  Last Night  ASDASD[Intro]\\nLast night, we let the liquor t...\n",
       "1   2     Flowers  ASDASD[Verse 1]\\nWe were good, we were gold\\nK...\n",
       "2   3   Kill Bill  ASDASD[Verse 1]\\nI'm still a fan even though I...\n",
       "3   4   Anti-Hero  ASDASD[Verse 1]\\nI have this thing where I get...\n",
       "4   5    Creepin'  ASDASD[Intro]\\n(Just can't believe this, man)\\..."
      ]
     },
     "execution_count": 41,
     "metadata": {},
     "output_type": "execute_result"
    }
   ],
   "source": [
    "modified_songs = songs\n",
    "\n",
    "words_to_remove = [\"[]\", \"intro\", \"verse 1\", \"verse 2\", \"verse 3\", \"chorus\", \"bridge\", \"pre-chorus\", \"breakdown\", \"outro\"]\n",
    "\n",
    "pattern = '|'.join([r\"\\b{}\\b\".format(word) for word in words_to_remove] + [r'\\b\\w{1,2}\\b'])\n",
    "\n",
    "\n",
    "modified_songs[\"lyrics\"] = modified_songs[\"lyrics\"].replace(pattern, '', regex=True)\n",
    "modified_songs.head()"
   ]
  },
  {
   "cell_type": "code",
   "execution_count": null,
   "metadata": {},
   "outputs": [],
   "source": []
  }
 ],
 "metadata": {
  "kernelspec": {
   "display_name": "venv",
   "language": "python",
   "name": "python3"
  },
  "language_info": {
   "codemirror_mode": {
    "name": "ipython",
    "version": 3
   },
   "file_extension": ".py",
   "mimetype": "text/x-python",
   "name": "python",
   "nbconvert_exporter": "python",
   "pygments_lexer": "ipython3",
   "version": "3.11.0"
  }
 },
 "nbformat": 4,
 "nbformat_minor": 2
}
